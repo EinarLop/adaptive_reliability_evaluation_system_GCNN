{
  "nbformat": 4,
  "nbformat_minor": 0,
  "metadata": {
    "colab": {
      "provenance": [],
      "include_colab_link": true
    },
    "kernelspec": {
      "name": "python3",
      "display_name": "Python 3"
    },
    "language_info": {
      "name": "python"
    }
  },
  "cells": [
    {
      "cell_type": "markdown",
      "metadata": {
        "id": "view-in-github",
        "colab_type": "text"
      },
      "source": [
        "<a href=\"https://colab.research.google.com/github/EinarLop/adaptive_reliability_evaluation_system_GCNN/blob/main/BaseModel32.ipynb\" target=\"_parent\"><img src=\"https://colab.research.google.com/assets/colab-badge.svg\" alt=\"Open In Colab\"/></a>"
      ]
    },
    {
      "cell_type": "code",
      "execution_count": null,
      "metadata": {
        "id": "isgk2GfFsPGy",
        "collapsed": true
      },
      "outputs": [],
      "source": [
        "#Install torch_geometric (everything else is pre-installed in Colab\n",
        "# Add more rows if woring from Pycharm etc.)\n",
        "#! pip install torch_geometric\n",
        "#Unzip the archive with data\n",
        "#!unzip results.zip"
      ]
    },
    {
      "cell_type": "code",
      "source": [
        "import torch\n",
        "from torch_geometric.data import Data\n",
        "from torch_geometric.loader import DataLoader\n",
        "import glob\n",
        "import numpy as np"
      ],
      "metadata": {
        "id": "f7rUK8I_-Ykt"
      },
      "execution_count": null,
      "outputs": []
    },
    {
      "cell_type": "code",
      "source": [
        "# Red all matrix files and convert them into a list of lists\n",
        "mat_files = sorted(glob.glob('/content/*.mat'))\n",
        "if '/content/config_1.mat' in mat_files:\n",
        "    mat_files.remove('/content/config_1.mat')\n",
        "\n",
        "all_matrices = []\n",
        "for path in mat_files:\n",
        "  with open(path, 'r') as f:\n",
        "    content = f.read()\n",
        "  # Remove the first and last character ('[' and ']')\n",
        "  content = content[1:-1]\n",
        "  string_list = []\n",
        "  current_row = ''\n",
        "  start_line = False\n",
        "  for c in content:\n",
        "      if c == '[':\n",
        "          start_line = True\n",
        "      elif c == ']':\n",
        "          start_line = False\n",
        "          string_list.append(current_row)\n",
        "          current_row = ''\n",
        "      elif start_line:\n",
        "          if c != '\\n':\n",
        "              current_row += c\n",
        "  matrix = []\n",
        "  for string in string_list:\n",
        "    vals = string.replace('.', ' ').split()\n",
        "    vals = [int(v) for v in vals]\n",
        "    matrix.append(vals)\n",
        "  all_matrices.append(matrix)"
      ],
      "metadata": {
        "id": "1qrLSPbbs-VG"
      },
      "execution_count": null,
      "outputs": []
    },
    {
      "cell_type": "code",
      "source": [
        "# Convert adjacency matrices into edge indices.\n",
        "# An edge index is a 2 x Num_Of_Vert array. Here is an example\n",
        "# [[ 1, 2, 2, 3],\n",
        "#  [ 2, 1, 3, 2]]\n",
        "# You read the list by pairing numbers from top row with numbers from bottom row\n",
        "# In this example, 1 connects to 2, 2 connects to 1, 2 connects to 3,\n",
        "# and 3 connects to 2.\n",
        "# PyTorch Geometric works with this format of edge connection\n",
        "\n",
        "# List to hold edge indices for all indices\n",
        "all_edge_indices = []\n",
        "\n",
        "# Process each matrix in the list\n",
        "for matrix in all_matrices:\n",
        "    # Convert the 2D list to a numpy array\n",
        "    matrix_np = np.array(matrix)\n",
        "\n",
        "    # Get the indices where there are edges (i.e., non-zero entries)\n",
        "    edge_indices = np.nonzero(matrix_np)\n",
        "\n",
        "    # Stack the indices into a 2xN array where each column represents an edge\n",
        "    edge_index = torch.tensor(np.vstack(edge_indices), dtype=torch.long)\n",
        "\n",
        "    # Append the edge_index tensor to the list\n",
        "    all_edge_indices.append(edge_index)"
      ],
      "metadata": {
        "collapsed": true,
        "id": "73keGdgCA46L"
      },
      "execution_count": null,
      "outputs": []
    },
    {
      "cell_type": "code",
      "source": [
        "# Read target values from rel files\n",
        "rel_files = sorted(glob.glob('/content/*.rel'))\n",
        "all_rels = []\n",
        "if '/content/config_1.rel' in rel_files:\n",
        "    rel_files.remove('/content/config_1.rel')\n",
        "for path in rel_files:\n",
        "  with open(path, 'r') as f:\n",
        "    y_val = float(f.read())\n",
        "  all_rels.append(y_val)\n",
        "# Convert the list of float values to a PyTorch tensor\n",
        "all_rels_tensor = torch.tensor(all_rels)\n"
      ],
      "metadata": {
        "id": "vhE_t_fR_WWv"
      },
      "execution_count": null,
      "outputs": []
    },
    {
      "cell_type": "code",
      "source": [
        "#Create one Data object per graph and put them into one list\n",
        "# TODO: Create PyTOrch Geometric Dataset object (https://pytorch-geometric.readthedocs.io/en/latest/tutorial/create_dataset.html)\n",
        "# Each Data object should have node features in a tensor called X,\n",
        "# (we dont' have any node features yet, that's why there are placeholders)\n",
        "# target tensor called Y, and edge_index from before.\n",
        "data_list = []\n",
        "for i in range(len(all_matrices)):\n",
        "  num_nodes = len(all_matrices[i])  # Number of nodes from adjacency matrix\n",
        "  node_features = torch.ones((num_nodes, 1))  # Dummy feature of 1.0 for each node\n",
        "  edge_index = all_edge_indices[i]\n",
        "  #TODO: there is one less rel file than mat files. It is because config1 (empty config)\n",
        "  #Does not have corresponding rel value (which makes sense because empty system doesnt have reliability)\n",
        "  #Because of that there is one less y valye than x values. I think the easest way to fix this\n",
        "  #is by removing config1.mat entirely, but I am irested in your thoughts - Pasha\n",
        "  y = all_rels_tensor[i]\n",
        "\n",
        "  data = Data(x=node_features, edge_index=edge_index, y=y)\n",
        "  data_list.append(data)"
      ],
      "metadata": {
        "id": "fDIDG4rECwVB"
      },
      "execution_count": null,
      "outputs": []
    },
    {
      "cell_type": "code",
      "source": [
        "from sklearn.model_selection import train_test_split\n",
        "\n",
        "# Split data and create DataLoader objects for training\n",
        "train_data_list, test_data_list = train_test_split(data_list, test_size=0.2, random_state=42)\n",
        "train_loader = DataLoader(train_data_list, batch_size=32, shuffle=True)\n",
        "test_loader = DataLoader(test_data_list, batch_size=32, shuffle=False)"
      ],
      "metadata": {
        "id": "NTedO4AOK_qR"
      },
      "execution_count": null,
      "outputs": []
    },
    {
      "cell_type": "code",
      "source": [
        "# Define a GCN (this one is from PyTorch Geometric tutorial, feel free to experiment)\n",
        "import torch\n",
        "import torch.nn.functional as F\n",
        "from torch_geometric.nn import GCNConv, global_mean_pool\n",
        "\n",
        "class GCN(torch.nn.Module):\n",
        "    def __init__(self, num_node_features = 1):\n",
        "        super().__init__()\n",
        "        self.conv1 = GCNConv(num_node_features, 32)\n",
        "        self.conv2 = GCNConv(32, 16)\n",
        "        self.fc = torch.nn.Linear(16, 1)\n",
        "\n",
        "    def forward(self, data):\n",
        "        x, edge_index, batch = data.x, data.edge_index, data.batch\n",
        "\n",
        "        # First GCN layer\n",
        "        x = self.conv1(x, edge_index)\n",
        "        x = F.relu(x)\n",
        "\n",
        "        # Second GCN layer\n",
        "        x = self.conv2(x, edge_index)\n",
        "        x = F.relu(x)\n",
        "\n",
        "        # Global mean pooling to get graph-level representation\n",
        "        x = global_mean_pool(x, batch)  # Shape: [batch_size, hidden_channels]\n",
        "\n",
        "        # Final fully connected layer\n",
        "        x = torch.sigmoid(self.fc(x))\n",
        "\n",
        "\n",
        "        return x"
      ],
      "metadata": {
        "id": "aoqfeajhHA6j"
      },
      "execution_count": null,
      "outputs": []
    },
    {
      "cell_type": "code",
      "source": [
        "import torch.optim as optim\n",
        "import time\n",
        "import os\n",
        "\n",
        "# Initialize the model, optimizer, and loss function\n",
        "model = GCN()  # Since our node features have dimension 1\n",
        "optimizer = optim.Adam(model.parameters(), lr=0.01)\n",
        "criterion = torch.nn.MSELoss()\n",
        "\n",
        "# Training parameters\n",
        "num_epochs = 20\n",
        "patience = 5  # Early stopping patience\n",
        "min_val_loss = float('inf')  # To track the minimum validation loss\n",
        "patience_counter = 0  # To count epochs without improvement\n",
        "checkpoint_path = \"best_model.pth\"  # File path for the checkpoint\n",
        "\n",
        "# Training loop\n",
        "for epoch in range(num_epochs):\n",
        "    model.train()\n",
        "    total_loss = 0\n",
        "\n",
        "    for data in train_loader:\n",
        "        optimizer.zero_grad()\n",
        "        out = model(data).squeeze()  # Shape: [batch_size]\n",
        "        loss = criterion(out, data.y)\n",
        "        loss.backward()\n",
        "        optimizer.step()\n",
        "        total_loss += loss.item() * data.num_graphs  # Accumulate loss\n",
        "\n",
        "    avg_train_loss = total_loss / len(data_list)\n",
        "\n",
        "    # Validation Phase\n",
        "    model.eval()\n",
        "    total_val_loss = 0\n",
        "\n",
        "    # Prediction time\n",
        "    total_predictions = 0\n",
        "    total_prediction_time = 0\n",
        "\n",
        "    with torch.no_grad():\n",
        "        for data in test_loader:\n",
        "            # Start time\n",
        "            batch_start_time = time.time()\n",
        "\n",
        "            out = model(data).squeeze()\n",
        "\n",
        "            # End time\n",
        "            batch_end_time = time.time()\n",
        "            batch_prediction_time = batch_end_time - batch_start_time\n",
        "            total_prediction_time += batch_prediction_time\n",
        "\n",
        "            total_predictions += data.num_graphs\n",
        "\n",
        "            loss = criterion(out, data.y)\n",
        "            total_val_loss += loss.item() * data.num_graphs\n",
        "\n",
        "    avg_val_loss = total_val_loss / len(test_data_list)\n",
        "    avg_prediction_time = total_prediction_time / total_predictions\n",
        "\n",
        "    print(f\"Epoch {epoch + 1}/{num_epochs}, Training Loss: {avg_train_loss:.4f}, Validation Loss: {avg_val_loss:.4f}, Average Prediction Time (s): {avg_prediction_time:.6f} per graph\\n\")\n",
        "\n",
        "    # Check for improvement in validation loss\n",
        "    if avg_val_loss < min_val_loss:\n",
        "        min_val_loss = avg_val_loss\n",
        "        patience_counter = 0  # Reset patience counter\n",
        "\n",
        "        # Save the best model checkpoint\n",
        "        torch.save(model.state_dict(), checkpoint_path)\n",
        "    else:\n",
        "        patience_counter += 1\n",
        "        print(f\"No improvement in validation loss for {patience_counter} epoch(s).\\n\")\n",
        "\n",
        "    # Check if patience has been exceeded\n",
        "    if patience_counter >= patience:\n",
        "        print(f\"Early stopping triggered after {patience} epochs without improvement.\")\n",
        "        break\n",
        "\n",
        "# Load the best model checkpoint (optional, after training is complete)\n",
        "if os.path.exists(checkpoint_path):\n",
        "    model.load_state_dict(torch.load(checkpoint_path))\n",
        "    print(\"Loaded the best model from checkpoint.\")\n"
      ],
      "metadata": {
        "colab": {
          "base_uri": "https://localhost:8080/"
        },
        "id": "5mXYxlZsfBbZ",
        "outputId": "0de76604-aa92-4dc7-9699-bc8cf9122f61"
      },
      "execution_count": null,
      "outputs": [
        {
          "output_type": "stream",
          "name": "stdout",
          "text": [
            "Epoch 1/20, Training Loss: 0.1350, Validation Loss: 0.1055, Average Prediction Time (s): 0.000111 per graph\n",
            "\n",
            "Epoch 2/20, Training Loss: 0.0552, Validation Loss: 0.0213, Average Prediction Time (s): 0.000117 per graph\n",
            "\n",
            "Epoch 3/20, Training Loss: 0.0077, Validation Loss: 0.0009, Average Prediction Time (s): 0.000116 per graph\n",
            "\n",
            "Epoch 4/20, Training Loss: 0.0003, Validation Loss: 0.0001, Average Prediction Time (s): 0.000150 per graph\n",
            "\n",
            "Epoch 5/20, Training Loss: 0.0002, Validation Loss: 0.0003, Average Prediction Time (s): 0.000111 per graph\n",
            "\n",
            "No improvement in validation loss for 1 epoch(s).\n",
            "\n",
            "Epoch 6/20, Training Loss: 0.0003, Validation Loss: 0.0004, Average Prediction Time (s): 0.000103 per graph\n",
            "\n",
            "No improvement in validation loss for 2 epoch(s).\n",
            "\n",
            "Epoch 7/20, Training Loss: 0.0003, Validation Loss: 0.0004, Average Prediction Time (s): 0.000101 per graph\n",
            "\n",
            "No improvement in validation loss for 3 epoch(s).\n",
            "\n",
            "Epoch 8/20, Training Loss: 0.0004, Validation Loss: 0.0005, Average Prediction Time (s): 0.000142 per graph\n",
            "\n",
            "No improvement in validation loss for 4 epoch(s).\n",
            "\n",
            "Epoch 9/20, Training Loss: 0.0004, Validation Loss: 0.0005, Average Prediction Time (s): 0.000119 per graph\n",
            "\n",
            "No improvement in validation loss for 5 epoch(s).\n",
            "\n",
            "Early stopping triggered after 5 epochs without improvement.\n",
            "Loaded the best model from checkpoint.\n"
          ]
        },
        {
          "output_type": "stream",
          "name": "stderr",
          "text": [
            "<ipython-input-9-0f490e492341>:80: FutureWarning: You are using `torch.load` with `weights_only=False` (the current default value), which uses the default pickle module implicitly. It is possible to construct malicious pickle data which will execute arbitrary code during unpickling (See https://github.com/pytorch/pytorch/blob/main/SECURITY.md#untrusted-models for more details). In a future release, the default value for `weights_only` will be flipped to `True`. This limits the functions that could be executed during unpickling. Arbitrary objects will no longer be allowed to be loaded via this mode unless they are explicitly allowlisted by the user via `torch.serialization.add_safe_globals`. We recommend you start setting `weights_only=True` for any use case where you don't have full control of the loaded file. Please open an issue on GitHub for any issues related to this experimental feature.\n",
            "  model.load_state_dict(torch.load(checkpoint_path))\n"
          ]
        }
      ]
    },
    {
      "cell_type": "code",
      "source": [
        "from sklearn.metrics import mean_squared_error\n",
        "import matplotlib.pyplot as plt\n",
        "\n",
        "# Evaluate on test data\n",
        "model.eval()\n",
        "predictions = []\n",
        "true_values = []\n",
        "\n",
        "with torch.no_grad():\n",
        "    for data in test_loader:\n",
        "        out = model(data).squeeze()  # Predictions from the model\n",
        "        predictions.append(out.cpu().numpy())  # Append predictions\n",
        "        true_values.append(data.y.cpu().numpy())  # Append true values\n",
        "\n",
        "# Flatten the lists\n",
        "predictions = [item for sublist in predictions for item in sublist]\n",
        "true_values = [item for sublist in true_values for item in sublist]\n",
        "\n",
        "# Calculate Mean Squared Error\n",
        "mse = mean_squared_error(true_values, predictions)\n",
        "\n",
        "print(f'Mean Squared Error on Test Set: {mse:.4f}')\n",
        "\n",
        "# Scatter Plot for Predictions vs True Values\n",
        "plt.figure(figsize=(8, 6))\n",
        "plt.scatter(true_values, predictions, alpha=0.6, edgecolor='k', label='Predictions')\n",
        "plt.plot([min(true_values), max(true_values)], [min(true_values), max(true_values)],\n",
        "         'r--', lw=2, label='Ideal Fit (y=x)')\n",
        "plt.xlabel('True Values')\n",
        "plt.ylabel('Predictions')\n",
        "plt.title('Predictions vs True Values on Test Set')\n",
        "plt.legend()\n",
        "plt.grid()\n",
        "plt.show()\n"
      ],
      "metadata": {
        "colab": {
          "base_uri": "https://localhost:8080/",
          "height": 582
        },
        "id": "3wEpi1LOyEHI",
        "outputId": "6e09267f-48fc-40a6-a107-03e594a274e3"
      },
      "execution_count": null,
      "outputs": [
        {
          "output_type": "stream",
          "name": "stdout",
          "text": [
            "Mean Squared Error on Test Set: 0.0001\n"
          ]
        },
        {
          "output_type": "display_data",
          "data": {
            "text/plain": [
              "<Figure size 800x600 with 1 Axes>"
            ],
            "image/png": "[encoded data removed]"
          },
          "metadata": {}
        }
      ]
    },
    {
      "cell_type": "code",
      "source": [
        "print(predictions)\n",
        "print(true_values)"
      ],
      "metadata": {
        "colab": {
          "base_uri": "https://localhost:8080/"
        },
        "id": "TZmzn7__yoQx",
        "outputId": "d19efb73-85d1-448e-a065-bb0fe1411fed"
      },
      "execution_count": null,
      "outputs": [
        {
          "output_type": "stream",
          "name": "stdout",
          "text": [
            "[0.9837136, 0.98373175, 0.9836752, 0.98386866, 0.98386866, 0.9835601, 0.9839458, 0.9833349, 0.98340005, 0.9836752, 0.98373175, 0.9836998, 0.9836431, 0.9834208, 0.98385805, 0.98353994, 0.98358077, 0.9835988, 0.9837136, 0.98347825, 0.9834208, 0.98373175, 0.9835227, 0.9836247, 0.9833754, 0.9833571, 0.98336315, 0.98375505, 0.9839458, 0.9836446, 0.9837443, 0.98348385, 0.9835616, 0.9838626, 0.98347825, 0.9835507, 0.9836627, 0.98351544, 0.98386866, 0.98386866, 0.98339266, 0.9834024, 0.9836173, 0.9835752]\n",
            "[0.9741193, 0.9985338, 0.9741193, 0.9741193, 0.97060835, 0.9984458, 0.97060835, 0.9741193, 0.97060835, 0.9741193, 0.9985338, 0.97051364, 0.97051364, 0.97060835, 0.9741193, 0.97060835, 0.97060835, 0.97060835, 0.9741193, 0.9741193, 0.9741193, 0.9985338, 0.9923432, 0.97060835, 0.9741193, 0.9741193, 0.97060835, 0.97060835, 0.9741193, 0.9704145, 0.9741193, 0.97051364, 0.99232566, 0.97051364, 0.97060835, 0.9984458, 0.98970824, 0.9741193, 0.9741193, 0.9741193, 0.9985338, 0.9741193, 0.9984458, 0.9741193]\n"
          ]
        }
      ]
    }
  ]
}
